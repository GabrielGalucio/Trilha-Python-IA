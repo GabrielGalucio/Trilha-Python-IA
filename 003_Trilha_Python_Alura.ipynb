{
  "nbformat": 4,
  "nbformat_minor": 0,
  "metadata": {
    "colab": {
      "name": "003_Trilha_Python_Alura.ipynb",
      "provenance": [],
      "collapsed_sections": []
    },
    "kernelspec": {
      "name": "python3",
      "display_name": "Python 3"
    }
  },
  "cells": [
    {
      "cell_type": "code",
      "metadata": {
        "id": "pqDDrxuwHejp",
        "colab_type": "code",
        "colab": {}
      },
      "source": [
        "# Descrição de uma classificação binário para exemplificar Machine Learning\n",
        "# O animal tem pelo longo?\n",
        "# O animal tem perna curta?\n",
        "# O animal faz \"auau\"?\n",
        "\n",
        "# 1 -> true\n",
        "# 2 -> false"
      ],
      "execution_count": 0,
      "outputs": []
    },
    {
      "cell_type": "code",
      "metadata": {
        "id": "XLe-GNUvJepi",
        "colab_type": "code",
        "colab": {}
      },
      "source": [
        "#Criando variaveis modelos\n",
        "porco01 = [0, 1, 0]\n",
        "porco02 = [0, 1, 1]\n",
        "porco03 = [1, 1, 0]\n",
        "\n",
        "cachorro01 = [0, 1, 1]\n",
        "cachorro02 = [1, 0, 1]\n",
        "cachorro03 = [1, 1, 1]\n",
        "\n",
        "treino_x = [porco01, porco02, porco03, cachorro01, cachorro02, cachorro03]\n",
        "treino_y = [1,1,1,0,0,0] # 1 = porco && 0 = cachorro"
      ],
      "execution_count": 0,
      "outputs": []
    },
    {
      "cell_type": "code",
      "metadata": {
        "id": "XrYpMNkLLjKD",
        "colab_type": "code",
        "outputId": "9d9feb2e-0b3e-43dd-810f-9fc7546bfc20",
        "colab": {
          "base_uri": "https://localhost:8080/",
          "height": 85
        }
      },
      "source": [
        "from sklearn.svm import LinearSVC\n",
        "\n",
        "# Criando um \"cérebro vazio\"\n",
        "modelo = LinearSVC()\n",
        "modelo.fit(treino_x, treino_y)"
      ],
      "execution_count": 0,
      "outputs": [
        {
          "output_type": "execute_result",
          "data": {
            "text/plain": [
              "LinearSVC(C=1.0, class_weight=None, dual=True, fit_intercept=True,\n",
              "          intercept_scaling=1, loss='squared_hinge', max_iter=1000,\n",
              "          multi_class='ovr', penalty='l2', random_state=None, tol=0.0001,\n",
              "          verbose=0)"
            ]
          },
          "metadata": {
            "tags": []
          },
          "execution_count": 8
        }
      ]
    },
    {
      "cell_type": "code",
      "metadata": {
        "id": "hLOlFqyYL-ob",
        "colab_type": "code",
        "outputId": "40a2308e-f726-4596-fe96-3177182d23d1",
        "colab": {
          "base_uri": "https://localhost:8080/",
          "height": 34
        }
      },
      "source": [
        "animal_misterioso = [1, 1, 1]\n",
        "modelo.predict([animal_misterioso])\n",
        "# O cérebro vazio apenas decorou que o animal, cuja referencia é [1, 1, 1], é um\n",
        "# cachorro, pois na variavel criada acima, já havia sido declarado isso, ou seja\n",
        "# a máquina não aprendeu que o que foi informado era um cachorro, mas sim decor-\n",
        "# ou o resultado informado. É necessário criar contestações para testar o Apren-\n",
        "# dizado de máquina (Machine Learning)."
      ],
      "execution_count": 0,
      "outputs": [
        {
          "output_type": "execute_result",
          "data": {
            "text/plain": [
              "array([0])"
            ]
          },
          "metadata": {
            "tags": []
          },
          "execution_count": 9
        }
      ]
    },
    {
      "cell_type": "code",
      "metadata": {
        "id": "We2eeSKSNh_w",
        "colab_type": "code",
        "colab": {}
      },
      "source": [
        "# Criando mais varivaies para serem analisadas\n",
        "# Sendo que: 1 = porco && 0 = cachorro\n",
        "misterio01 = [1, 1, 1]\n",
        "misterio02 = [1, 1, 0]\n",
        "misterio03 = [0, 1, 1]\n",
        "\n",
        "teste_x = [misterio01, misterio02, misterio03]\n",
        "teste_y = [0, 1, 1]"
      ],
      "execution_count": 0,
      "outputs": []
    },
    {
      "cell_type": "code",
      "metadata": {
        "id": "9YTUxDZiO34e",
        "colab_type": "code",
        "outputId": "a70f2b96-c0ca-4c42-9e59-1d483fee7224",
        "colab": {
          "base_uri": "https://localhost:8080/",
          "height": 34
        }
      },
      "source": [
        "# Aplicando as previsões nas variaves acima\n",
        "# Sendo que: 1 = porco && 0 = cachorro\n",
        "previsoes = modelo.predict(teste_x)\n",
        "print(previsoes)"
      ],
      "execution_count": 0,
      "outputs": [
        {
          "output_type": "stream",
          "text": [
            "[0 1 0]\n"
          ],
          "name": "stdout"
        }
      ]
    },
    {
      "cell_type": "code",
      "metadata": {
        "id": "uayLoW7-QUrr",
        "colab_type": "code",
        "outputId": "697a2402-88df-4747-f6fe-f05082dae3ed",
        "colab": {
          "base_uri": "https://localhost:8080/",
          "height": 34
        }
      },
      "source": [
        "# Calculanda a taxa de acerto/accurate que tem sintaxe disponibilizada na pro\n",
        "# pria biblioteca da sklearn\n",
        "from sklearn.metrics import accuracy_score\n",
        "accuracy_score(teste_y, previsoes)"
      ],
      "execution_count": 0,
      "outputs": [
        {
          "output_type": "execute_result",
          "data": {
            "text/plain": [
              "0.6666666666666666"
            ]
          },
          "metadata": {
            "tags": []
          },
          "execution_count": 12
        }
      ]
    },
    {
      "cell_type": "code",
      "metadata": {
        "id": "irAXVQNpXsz8",
        "colab_type": "code",
        "outputId": "cbdb55b7-0684-4e29-8127-488d18ca1a8b",
        "colab": {
          "base_uri": "https://localhost:8080/",
          "height": 119
        }
      },
      "source": [
        "# Criando um modelo rela com classificação binária\n",
        "import pandas as pd\n",
        "uri = \"https://gist.githubusercontent.com/guilhermesilveira/2d2efa37d66b6c84a722ea627a897ced/raw/10968b997d885cbded1c92938c7a9912ba41c615/tracking.csv\"\n",
        "dados = pd.read_csv(uri)\n",
        "print(dados.head())"
      ],
      "execution_count": 0,
      "outputs": [
        {
          "output_type": "stream",
          "text": [
            "   home  how_it_works  contact  bought\n",
            "0     1             1        0       0\n",
            "1     1             1        0       0\n",
            "2     1             1        0       0\n",
            "3     1             1        0       0\n",
            "4     1             1        0       0\n"
          ],
          "name": "stdout"
        }
      ]
    },
    {
      "cell_type": "code",
      "metadata": {
        "id": "I5CW4XbiYPFy",
        "colab_type": "code",
        "outputId": "cd578da6-e2b2-4bae-bfdb-9dd5c9d5e74e",
        "colab": {
          "base_uri": "https://localhost:8080/",
          "height": 204
        }
      },
      "source": [
        "dados.sample(5) # Pegando 05 (cinco) dados aleatórios da lista"
      ],
      "execution_count": 0,
      "outputs": [
        {
          "output_type": "execute_result",
          "data": {
            "text/html": [
              "<div>\n",
              "<style scoped>\n",
              "    .dataframe tbody tr th:only-of-type {\n",
              "        vertical-align: middle;\n",
              "    }\n",
              "\n",
              "    .dataframe tbody tr th {\n",
              "        vertical-align: top;\n",
              "    }\n",
              "\n",
              "    .dataframe thead th {\n",
              "        text-align: right;\n",
              "    }\n",
              "</style>\n",
              "<table border=\"1\" class=\"dataframe\">\n",
              "  <thead>\n",
              "    <tr style=\"text-align: right;\">\n",
              "      <th></th>\n",
              "      <th>home</th>\n",
              "      <th>how_it_works</th>\n",
              "      <th>contact</th>\n",
              "      <th>bought</th>\n",
              "    </tr>\n",
              "  </thead>\n",
              "  <tbody>\n",
              "    <tr>\n",
              "      <th>64</th>\n",
              "      <td>1</td>\n",
              "      <td>0</td>\n",
              "      <td>1</td>\n",
              "      <td>1</td>\n",
              "    </tr>\n",
              "    <tr>\n",
              "      <th>58</th>\n",
              "      <td>1</td>\n",
              "      <td>0</td>\n",
              "      <td>1</td>\n",
              "      <td>1</td>\n",
              "    </tr>\n",
              "    <tr>\n",
              "      <th>4</th>\n",
              "      <td>1</td>\n",
              "      <td>1</td>\n",
              "      <td>0</td>\n",
              "      <td>0</td>\n",
              "    </tr>\n",
              "    <tr>\n",
              "      <th>76</th>\n",
              "      <td>0</td>\n",
              "      <td>0</td>\n",
              "      <td>1</td>\n",
              "      <td>0</td>\n",
              "    </tr>\n",
              "    <tr>\n",
              "      <th>17</th>\n",
              "      <td>0</td>\n",
              "      <td>1</td>\n",
              "      <td>0</td>\n",
              "      <td>0</td>\n",
              "    </tr>\n",
              "  </tbody>\n",
              "</table>\n",
              "</div>"
            ],
            "text/plain": [
              "    home  how_it_works  contact  bought\n",
              "64     1             0        1       1\n",
              "58     1             0        1       1\n",
              "4      1             1        0       0\n",
              "76     0             0        1       0\n",
              "17     0             1        0       0"
            ]
          },
          "metadata": {
            "tags": []
          },
          "execution_count": 14
        }
      ]
    },
    {
      "cell_type": "code",
      "metadata": {
        "id": "RThsR3R-YPPu",
        "colab_type": "code",
        "outputId": "e04b6abf-46d2-4c17-f6a3-2b32e441f710",
        "colab": {
          "base_uri": "https://localhost:8080/",
          "height": 204
        }
      },
      "source": [
        "# Exibe-se então, até onde o cliente vai em ummsite de compras, de acordo com o que\n",
        "# é informado no mapa de navegação. A proposta é: caso o usuário já esteja na últi-\n",
        "# ma etapa de compra \"bougth\" o site não exibe anuncios ou pop-ups - É necessário fa\n",
        "# zer o tratamento disso.\n",
        "\n",
        "# Relacionando colunas pertinentes para o tratamento\n",
        "x = dados[[\"home\", \"how_it_works\", \"contact\"]]\n",
        "x.head()"
      ],
      "execution_count": 0,
      "outputs": [
        {
          "output_type": "execute_result",
          "data": {
            "text/html": [
              "<div>\n",
              "<style scoped>\n",
              "    .dataframe tbody tr th:only-of-type {\n",
              "        vertical-align: middle;\n",
              "    }\n",
              "\n",
              "    .dataframe tbody tr th {\n",
              "        vertical-align: top;\n",
              "    }\n",
              "\n",
              "    .dataframe thead th {\n",
              "        text-align: right;\n",
              "    }\n",
              "</style>\n",
              "<table border=\"1\" class=\"dataframe\">\n",
              "  <thead>\n",
              "    <tr style=\"text-align: right;\">\n",
              "      <th></th>\n",
              "      <th>home</th>\n",
              "      <th>how_it_works</th>\n",
              "      <th>contact</th>\n",
              "    </tr>\n",
              "  </thead>\n",
              "  <tbody>\n",
              "    <tr>\n",
              "      <th>0</th>\n",
              "      <td>1</td>\n",
              "      <td>1</td>\n",
              "      <td>0</td>\n",
              "    </tr>\n",
              "    <tr>\n",
              "      <th>1</th>\n",
              "      <td>1</td>\n",
              "      <td>1</td>\n",
              "      <td>0</td>\n",
              "    </tr>\n",
              "    <tr>\n",
              "      <th>2</th>\n",
              "      <td>1</td>\n",
              "      <td>1</td>\n",
              "      <td>0</td>\n",
              "    </tr>\n",
              "    <tr>\n",
              "      <th>3</th>\n",
              "      <td>1</td>\n",
              "      <td>1</td>\n",
              "      <td>0</td>\n",
              "    </tr>\n",
              "    <tr>\n",
              "      <th>4</th>\n",
              "      <td>1</td>\n",
              "      <td>1</td>\n",
              "      <td>0</td>\n",
              "    </tr>\n",
              "  </tbody>\n",
              "</table>\n",
              "</div>"
            ],
            "text/plain": [
              "   home  how_it_works  contact\n",
              "0     1             1        0\n",
              "1     1             1        0\n",
              "2     1             1        0\n",
              "3     1             1        0\n",
              "4     1             1        0"
            ]
          },
          "metadata": {
            "tags": []
          },
          "execution_count": 15
        }
      ]
    },
    {
      "cell_type": "code",
      "metadata": {
        "id": "PO1Rb4MeZrpv",
        "colab_type": "code",
        "outputId": "9156989c-c1a2-44f5-8476-6d5bf50cee12",
        "colab": {
          "base_uri": "https://localhost:8080/",
          "height": 119
        }
      },
      "source": [
        "y = dados[\"bought\"]\n",
        "print(y.head())"
      ],
      "execution_count": 0,
      "outputs": [
        {
          "output_type": "stream",
          "text": [
            "0    0\n",
            "1    0\n",
            "2    0\n",
            "3    0\n",
            "4    0\n",
            "Name: bought, dtype: int64\n"
          ],
          "name": "stdout"
        }
      ]
    },
    {
      "cell_type": "code",
      "metadata": {
        "colab_type": "code",
        "outputId": "c5a93565-7d94-4625-d090-9bcda11e8390",
        "id": "f-YXvDCaa-C6",
        "colab": {
          "base_uri": "https://localhost:8080/",
          "height": 34
        }
      },
      "source": [
        "from sklearn.svm import LinearSVC\n",
        "from sklearn.model_selection import train_test_split\n",
        "\n",
        "# Criando um \"cérebro vazio\"\n",
        "modelo = LinearSVC()\n",
        "treino_x, teste_x, treino_y, teste_y = train_test_split(x, y)\n",
        "\n",
        "modelo.fit(treino_x, treino_y)\n",
        "previsoes = modelo.predict(teste_x)\n",
        "accuracy_score(teste_y, previsoes) * 100\n",
        "\n"
      ],
      "execution_count": 0,
      "outputs": [
        {
          "output_type": "execute_result",
          "data": {
            "text/plain": [
              "100.0"
            ]
          },
          "metadata": {
            "tags": []
          },
          "execution_count": 17
        }
      ]
    },
    {
      "cell_type": "code",
      "metadata": {
        "id": "FmiElP-Cy8bD",
        "colab_type": "code",
        "outputId": "9ef38468-4177-44d9-c4ea-4503e46f9ffa",
        "colab": {
          "base_uri": "https://localhost:8080/",
          "height": 34
        }
      },
      "source": [
        "treino_x.shape\n"
      ],
      "execution_count": 0,
      "outputs": [
        {
          "output_type": "execute_result",
          "data": {
            "text/plain": [
              "(74, 3)"
            ]
          },
          "metadata": {
            "tags": []
          },
          "execution_count": 20
        }
      ]
    },
    {
      "cell_type": "code",
      "metadata": {
        "id": "0HOqPvoU15eC",
        "colab_type": "code",
        "outputId": "a6201367-68c8-4d82-b2be-fcd6928583fd",
        "colab": {
          "base_uri": "https://localhost:8080/",
          "height": 34
        }
      },
      "source": [
        "teste_x.shape"
      ],
      "execution_count": 0,
      "outputs": [
        {
          "output_type": "execute_result",
          "data": {
            "text/plain": [
              "(25, 3)"
            ]
          },
          "metadata": {
            "tags": []
          },
          "execution_count": 21
        }
      ]
    },
    {
      "cell_type": "code",
      "metadata": {
        "id": "OWxNKK8s2aqK",
        "colab_type": "code",
        "colab": {}
      },
      "source": [
        ""
      ],
      "execution_count": 0,
      "outputs": []
    }
  ]
}