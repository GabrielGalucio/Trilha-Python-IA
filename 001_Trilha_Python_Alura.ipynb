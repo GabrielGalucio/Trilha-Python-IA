{
  "nbformat": 4,
  "nbformat_minor": 0,
  "metadata": {
    "colab": {
      "name": "001_Trilha_Python_Alura.ipynb",
      "provenance": [],
      "collapsed_sections": []
    },
    "kernelspec": {
      "name": "python3",
      "display_name": "Python 3"
    }
  },
  "cells": [
    {
      "cell_type": "code",
      "metadata": {
        "id": "zxx0l4W0EJ11",
        "colab_type": "code",
        "colab": {}
      },
      "source": [
        "# Alguns exemplos de variaveis em python\n",
        "nome = \"Gabriel Galúcio\"\n",
        "idade = 21\n",
        "print(nome)\n",
        "print(idade)\n",
        "idade + 3 # Mesmo sem a sintaxe [print] o collab exibirá o resultado da soma"
      ],
      "execution_count": 0,
      "outputs": []
    },
    {
      "cell_type": "code",
      "metadata": {
        "id": "LVv8tglSE0T6",
        "colab_type": "code",
        "colab": {}
      },
      "source": [
        "# Alguns exemplos de exibição de variaveis em python\n",
        "nome2 = \"João Portilho\"\n",
        "nome2   # Regressão para imprimir o ultimo valor (de maneira mais compactada)"
      ],
      "execution_count": 0,
      "outputs": []
    },
    {
      "cell_type": "code",
      "metadata": {
        "id": "eh1av1Fu3pnl",
        "colab_type": "code",
        "colab": {}
      },
      "source": [
        "# Exemplo de uma função simples em python\n",
        "def mais_um_ano(idade):\n",
        "  print(\"Está dentro desta função\")\n",
        "  return idade + 1"
      ],
      "execution_count": 0,
      "outputs": []
    },
    {
      "cell_type": "code",
      "metadata": {
        "id": "71mKYSnR4S2Y",
        "colab_type": "code",
        "colab": {}
      },
      "source": [
        "# Chamando a função criada com o retorno\n",
        "mais_um_ano(43)"
      ],
      "execution_count": 0,
      "outputs": []
    },
    {
      "cell_type": "code",
      "metadata": {
        "id": "bZIMHBgQ45pI",
        "colab_type": "code",
        "colab": {}
      },
      "source": [
        "# Um caso mais complexo de variavel = ARRAY // LISTA (Termo correto na linguagem python)\n",
        "\n",
        "filme01 = \"Toy Storie 17\"\n",
        "filme02 = \"Xua só para baixinhos\"\n",
        "filme03 = \"Matrix 17\"\n",
        "\n",
        "filmes = [\"Toy Storie 17\", \"Xuxa só para baixinhos\", \"Matrix 17\"]\n",
        "print(filmes)\n",
        "\n",
        "# OU\n",
        "# filmes = [filme01, filme02, filme03]\n",
        "# filmes"
      ],
      "execution_count": 0,
      "outputs": []
    },
    {
      "cell_type": "code",
      "metadata": {
        "id": "ZA50AEt86WIO",
        "colab_type": "code",
        "colab": {}
      },
      "source": [
        "# Criando uma função para exibir os filmes disponíveis\n",
        "def imprime_filmes(filmes_que_quero_imprimir):\n",
        "  print(\"A lista de filmes que estão disponíveis:\")\n",
        "  print(filmes_que_quero_imprimir)"
      ],
      "execution_count": 0,
      "outputs": []
    },
    {
      "cell_type": "code",
      "metadata": {
        "id": "3D96-kIF6t94",
        "colab_type": "code",
        "colab": {}
      },
      "source": [
        "imprime_filmes(filmes)"
      ],
      "execution_count": 0,
      "outputs": []
    },
    {
      "cell_type": "code",
      "metadata": {
        "id": "nM9LhaM58NSa",
        "colab_type": "code",
        "colab": {}
      },
      "source": [
        "# Alguns recursos para a capturar/manipular de dados de uma lista\n",
        "# EX01: filmes[-1]  --> Pega o ultimo dado da lista\n",
        "# EX02: filmes[-2]  --> Pega o penultimo dado da lista\n",
        "# EX03: filmes[1:]  --> Pega todos os dados a partir da posição \"1\"\n",
        "# EX04: filmes[-2:] --> Pega todos os dados do penultimo para frente\n",
        "# EX05: filmes[x]   --> Pega o dados escolhido a partiri da posição na lista"
      ],
      "execution_count": 0,
      "outputs": []
    },
    {
      "cell_type": "code",
      "metadata": {
        "id": "8jck8fGB725N",
        "colab_type": "code",
        "colab": {}
      },
      "source": [
        "filmes[0]"
      ],
      "execution_count": 0,
      "outputs": []
    },
    {
      "cell_type": "code",
      "metadata": {
        "id": "2sN8qgKW750t",
        "colab_type": "code",
        "colab": {}
      },
      "source": [
        "filmes[1]"
      ],
      "execution_count": 0,
      "outputs": []
    },
    {
      "cell_type": "code",
      "metadata": {
        "id": "ofo1S2bz77UQ",
        "colab_type": "code",
        "colab": {}
      },
      "source": [
        "filmes[2]"
      ],
      "execution_count": 0,
      "outputs": []
    },
    {
      "cell_type": "code",
      "metadata": {
        "id": "Uh_JtxK69bPy",
        "colab_type": "code",
        "colab": {}
      },
      "source": [
        "# Criando um laço de repetição para percorrer os filmes da lista\n",
        "for filme in filmes:\n",
        "  print(filme)\n",
        "  print(\"...\")\n",
        "print(\"Fim da lista de filmes\")"
      ],
      "execution_count": 0,
      "outputs": []
    },
    {
      "cell_type": "code",
      "metadata": {
        "id": "Ag1EbVFl_AC2",
        "colab_type": "code",
        "colab": {}
      },
      "source": [
        "# Com os dois exemplos de exbição dos filmes, agora une-se as sintaxes\n",
        "# para exibir a lista de filmes corretamente no console (padrão)\n",
        "def imprime_filmes(filmes_que_quero_imprimir):\n",
        "  print(\"A lista de filmes que tenho disponível:\")\n",
        "  for filme in filmes_que_quero_imprimir:\n",
        "    print(filme)"
      ],
      "execution_count": 0,
      "outputs": []
    },
    {
      "cell_type": "code",
      "metadata": {
        "id": "oPe2AQ7M_id0",
        "colab_type": "code",
        "colab": {}
      },
      "source": [
        "imprime_filmes(filmes)"
      ],
      "execution_count": 0,
      "outputs": []
    },
    {
      "cell_type": "code",
      "metadata": {
        "id": "JCOHApccASqh",
        "colab_type": "code",
        "colab": {}
      },
      "source": [
        "#Criando uma variavel do tipo DICIONÁRIO\n",
        "pessoa = {\"nome\" : \"Gabriel Galúcio\", \"idade\" : 21, \"altura\" : 1.80}"
      ],
      "execution_count": 0,
      "outputs": []
    },
    {
      "cell_type": "code",
      "metadata": {
        "id": "xp18z6ngAuy_",
        "colab_type": "code",
        "colab": {}
      },
      "source": [
        "print(pessoa)"
      ],
      "execution_count": 0,
      "outputs": []
    },
    {
      "cell_type": "code",
      "metadata": {
        "id": "2dx2JIq5A2IQ",
        "colab_type": "code",
        "colab": {}
      },
      "source": [
        "pessoa[\"nome\"]"
      ],
      "execution_count": 0,
      "outputs": []
    }
  ]
}