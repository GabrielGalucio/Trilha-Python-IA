{
  "nbformat": 4,
  "nbformat_minor": 0,
  "metadata": {
    "colab": {
      "name": "002_Trilha_Python_Alura.ipynb",
      "provenance": [],
      "collapsed_sections": []
    },
    "kernelspec": {
      "name": "python3",
      "display_name": "Python 3"
    }
  },
  "cells": [
    {
      "cell_type": "code",
      "metadata": {
        "id": "PD35JBJ8B_gD",
        "colab_type": "code",
        "colab": {}
      },
      "source": [
        "import pandas as pd\n",
        "\n",
        "uri = \"https://raw.githubusercontent.com/alura-cursos/introducao-a-data-science/master/aula4.1/movies.csv\"\n",
        "filme = pd.read_csv(uri)\n",
        "# print(filme)\n",
        "print(filme.head())"
      ],
      "execution_count": 0,
      "outputs": []
    },
    {
      "cell_type": "code",
      "metadata": {
        "id": "C0UeRpOiFM3M",
        "colab_type": "code",
        "colab": {}
      },
      "source": [
        "filme.columns = [\"filmeId\", \"titulo\", \"genero\"]\n",
        "filme.head()\n",
        "# print(filme.head())"
      ],
      "execution_count": 0,
      "outputs": []
    },
    {
      "cell_type": "code",
      "metadata": {
        "id": "euIKAQ-_HW7-",
        "colab_type": "code",
        "colab": {}
      },
      "source": [
        "uri = \"https://raw.githubusercontent.com/alura-cursos/introducao-a-data-science/master/aula1.2/ratings.csv\"\n",
        "notas = pd.read_csv(uri)\n",
        "# print(notas)\n",
        "print(notas.head())"
      ],
      "execution_count": 0,
      "outputs": []
    },
    {
      "cell_type": "code",
      "metadata": {
        "id": "jMTNyeXCNmYo",
        "colab_type": "code",
        "colab": {}
      },
      "source": [
        "from google.colab import drive\n",
        "drive.mount('/content/drive')"
      ],
      "execution_count": 0,
      "outputs": []
    },
    {
      "cell_type": "code",
      "metadata": {
        "id": "stQeZg3UHo-e",
        "colab_type": "code",
        "colab": {}
      },
      "source": [
        "notas.columns = [\"usuarioId\", \"filmeId\", \"nota\", \"momento\"]\n",
        "notas.head()\n",
        "# print(notas.head())"
      ],
      "execution_count": 0,
      "outputs": []
    },
    {
      "cell_type": "code",
      "metadata": {
        "id": "XA1h8m8MIUgg",
        "colab_type": "code",
        "colab": {}
      },
      "source": [
        "notas[\"nota\"].head() # Lendo somente os valores das notas "
      ],
      "execution_count": 0,
      "outputs": []
    },
    {
      "cell_type": "code",
      "metadata": {
        "id": "r8LaVGXXJx5B",
        "colab_type": "code",
        "colab": {}
      },
      "source": [
        "notas[\"nota\"].unique() # Lendo somente os valore unicos"
      ],
      "execution_count": 0,
      "outputs": []
    },
    {
      "cell_type": "code",
      "metadata": {
        "id": "1sxgwtR7KH7f",
        "colab_type": "code",
        "colab": {}
      },
      "source": [
        "notas[\"nota\"].mean() # Identificando a média das notas"
      ],
      "execution_count": 0,
      "outputs": []
    },
    {
      "cell_type": "code",
      "metadata": {
        "id": "n5-7pn-1KQ7A",
        "colab_type": "code",
        "colab": {}
      },
      "source": [
        "notas[\"nota\"].min() # Identificando a menor nota "
      ],
      "execution_count": 0,
      "outputs": []
    },
    {
      "cell_type": "code",
      "metadata": {
        "id": "GARTDMBdKZCe",
        "colab_type": "code",
        "colab": {}
      },
      "source": [
        "notas.describe() # Exibindo infromações default da lista"
      ],
      "execution_count": 0,
      "outputs": []
    },
    {
      "cell_type": "code",
      "metadata": {
        "id": "Txp4ApQeKZfW",
        "colab_type": "code",
        "colab": {}
      },
      "source": [
        ""
      ],
      "execution_count": 0,
      "outputs": []
    }
  ]
}