{
 "cells": [
  {
   "cell_type": "code",
   "execution_count": 0,
   "metadata": {
    "colab": {},
    "colab_type": "code",
    "id": "qkRLs3oA_dK4"
   },
   "outputs": [],
   "source": [
    "import pandas as pd\n",
    "\n",
    "uri = \"https://raw.githubusercontent.com/alura-cursos/introducao-a-data-science/master/aula4.1/movies.csv\"\n",
    "filmes = pd.read_csv(uri)\n",
    "filmes.columns = [\"filmeId\", \"titulo\", \"genero\"]\n",
    "filmes = filmes.set_index('filmeId')\n",
    "filmes = filmes.join(filmes['genero'].str.get_dummies()).drop('genero', axis=1)\n",
    "filmes['ano'] = filmes['titulo'].str.extract(r'.*\\((\\d+)\\)')\n",
    "filmes = filmes.dropna()\n",
    "# filmes.head()"
   ]
  },
  {
   "cell_type": "code",
   "execution_count": 0,
   "metadata": {
    "colab": {},
    "colab_type": "code",
    "id": "ntay_ELpBNQC"
   },
   "outputs": [],
   "source": [
    "uri = \"https://raw.githubusercontent.com/alura-cursos/introducao-a-data-science/master/aula1.2/ratings.csv\"\n",
    "notas = pd.read_csv(uri)\n",
    "notas.columns = [\"usuarioId\", \"filmeId\", \"nota\", \"momento\"]\n",
    "arredondadas = notas['nota'].round(1)\n",
    "notas.head()"
   ]
  }
 ],
 "metadata": {
  "colab": {
   "collapsed_sections": [],
   "name": "004_Trilha_Python.ipynb",
   "provenance": []
  },
  "kernelspec": {
   "display_name": "Python 3",
   "language": "python",
   "name": "python3"
  },
  "language_info": {
   "codemirror_mode": {
    "name": "ipython",
    "version": 3
   },
   "file_extension": ".py",
   "mimetype": "text/x-python",
   "name": "python",
   "nbconvert_exporter": "python",
   "pygments_lexer": "ipython3",
   "version": "3.7.4"
  }
 },
 "nbformat": 4,
 "nbformat_minor": 1
}
