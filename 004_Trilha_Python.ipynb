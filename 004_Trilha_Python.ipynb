{
  "nbformat": 4,
  "nbformat_minor": 0,
  "metadata": {
    "colab": {
      "name": "004_Trilha_Python.ipynb",
      "provenance": [],
      "collapsed_sections": []
    },
    "kernelspec": {
      "name": "python3",
      "display_name": "Python 3"
    }
  },
  "cells": [
    {
      "cell_type": "code",
      "metadata": {
        "id": "qkRLs3oA_dK4",
        "colab_type": "code",
        "colab": {}
      },
      "source": [
        "import pandas as pd\n",
        "\n",
        "uri = \"https://raw.githubusercontent.com/alura-cursos/introducao-a-data-science/master/aula4.1/movies.csv\"\n",
        "filmes = pd.read_csv(uri)\n",
        "filmes.columns = [\"filmeId\", \"titulo\", \"genero\"]\n",
        "filmes = filmes.set_index('filmeId')\n",
        "filmes = filmes.join(filmes['genero'].str.get_dummies()).drop('genero', axis=1)\n",
        "filmes['ano'] = filmes['titulo'].str.extract(r'.*\\((\\d+)\\)')\n",
        "filmes = filmes.dropna()\n",
        "# filmes.head()"
      ],
      "execution_count": 0,
      "outputs": []
    },
    {
      "cell_type": "code",
      "metadata": {
        "id": "ntay_ELpBNQC",
        "colab_type": "code",
        "colab": {}
      },
      "source": [
        "uri = \"https://raw.githubusercontent.com/alura-cursos/introducao-a-data-science/master/aula1.2/ratings.csv\"\n",
        "notas = pd.read_csv(uri)\n",
        "notas.columns = [\"usuarioId\", \"filmeId\", \"nota\", \"momento\"]\n",
        "arredondadas = notas['nota'].round(1)\n",
        "notas.head()"
      ],
      "execution_count": 0,
      "outputs": []
    }
  ]
}